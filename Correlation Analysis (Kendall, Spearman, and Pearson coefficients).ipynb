{
 "cells": [
  {
   "cell_type": "markdown",
   "id": "8fa0d467",
   "metadata": {},
   "source": [
    "# Well log correlation analysis"
   ]
  },
  {
   "cell_type": "markdown",
   "id": "b2019a83",
   "metadata": {},
   "source": [
    "This notebook aims to perform a correlation analysis between variables related to a well. The main objective is to identify possible relationships or dependencies between these well characteristics.\n",
    "\n",
    "The notebook uses different correlation methods, including Pearson's correlation coefficient, Kendall's correlation coefficient and Spearman's correlation coefficient. These methods allow us to assess the strength and direction of the relationship between numerical variables.\n",
    "\n",
    "In addition, heatmaps are generated that visualize the correlations found. These maps provide an intuitive graphical representation of the magnitude of correlations, allowing us to identify patterns and trends between the well logs and other well characteristics. The notebook is highly customizable and allows the selection of specific variables to be analyzed.\n",
    "\n",
    "This notebook is a powerful tool for exploratory data analysis in oil industry related projects, as it allows a better understanding of the relationships between key variables in a well, facilitating informed decision making and optimization of the processes involved."
   ]
  },
  {
   "cell_type": "markdown",
   "id": "4d413131",
   "metadata": {},
   "source": [
    "## Libraries"
   ]
  },
  {
   "cell_type": "markdown",
   "id": "c87a6a27",
   "metadata": {},
   "source": [
    "Libraries to be used during code development are imported."
   ]
  },
  {
   "cell_type": "code",
   "execution_count": null,
   "id": "3f7db747",
   "metadata": {},
   "outputs": [],
   "source": [
    "#======================Bibliotecas para graficar=============================#\n",
    "import matplotlib.pyplot as plt\n",
    "import matplotlib as mpl\n",
    "import matplotlib.patches as mpatches\n",
    "import matplotlib.colors\n",
    "from matplotlib.ticker import StrMethodFormatter\n",
    "from scipy.stats import pearsonr\n",
    "from scipy.stats import kendalltau\n",
    "from scipy.stats import spearmanr\n",
    "import seaborn as sns\n",
    "\n",
    "#======================Bibliotecas para análisis numérico y de datos=========#\n",
    "import numpy as np\n",
    "import pandas as pd\n",
    "import scipy.stats\n",
    "\n",
    "#======================Bibliotecas para desarrollo de interfaces gráficas====#\n",
    "import tkinter as tk\n",
    "from tkinter.filedialog import askopenfilename"
   ]
  },
  {
   "cell_type": "markdown",
   "id": "2d2fe525",
   "metadata": {},
   "source": [
    "## Import Database "
   ]
  },
  {
   "cell_type": "markdown",
   "id": "4c90bfe2",
   "metadata": {},
   "source": [
    "In this section of the script the data to be plotted is imported. It is required that the file to work with is in a comma separated text format \".csv\". Then a summary table with database statistics is generated."
   ]
  },
  {
   "cell_type": "code",
   "execution_count": null,
   "id": "9865371b",
   "metadata": {},
   "outputs": [],
   "source": [
    "#====================Se crea la ventana con la que se accedará al directorio de la base de datos===#\n",
    "root = tk.Tk()\n",
    "root.withdraw()\n",
    "\n",
    "#====================Dentro de la ventana se selecciona la base de data a abrir====================#\n",
    "datos = askopenfilename(filetypes = [(\"csv files\", \"*.csv\")])\n",
    "\n",
    "#====================Se lee la base de datos y se presenta un resumen con estadígrafos de esta=====#\n",
    "rgp = pd.read_csv(datos)"
   ]
  },
  {
   "cell_type": "markdown",
   "id": "41df85e1",
   "metadata": {},
   "source": [
    "## Add the name of your well or file"
   ]
  },
  {
   "cell_type": "code",
   "execution_count": null,
   "id": "6d1010a9",
   "metadata": {},
   "outputs": [],
   "source": [
    "pozo = 'well name'"
   ]
  },
  {
   "cell_type": "markdown",
   "id": "dfcf5f04",
   "metadata": {},
   "source": [
    "## Name of your variables "
   ]
  },
  {
   "cell_type": "code",
   "execution_count": null,
   "id": "3bc1323f",
   "metadata": {},
   "outputs": [],
   "source": [
    "rgp.columns.tolist()"
   ]
  },
  {
   "cell_type": "markdown",
   "id": "fdc3d62f",
   "metadata": {},
   "source": [
    "## Variable selection\n",
    "In this section you can choose the variables to which you want to analyze their correlation."
   ]
  },
  {
   "cell_type": "code",
   "execution_count": null,
   "id": "56026fd7",
   "metadata": {},
   "outputs": [],
   "source": [
    "rgp_n1 = rgp[[\n",
    "    'Varaible 1',\n",
    "    'Varaible 2',\n",
    "    'Varaible 3',\n",
    "    'Varaible 4',\n",
    "    'Varaible 5']]  \n",
    "rgp_n1.describe().apply(lambda s: s.apply('{0:.4f}'.format)).T\n",
    "\n",
    "\n",
    "#rgp_n1 = rgp #Para analizar todas las variables"
   ]
  },
  {
   "cell_type": "markdown",
   "id": "5772057e",
   "metadata": {},
   "source": [
    "## Standardization of variables (Z-score Standardization)\n",
    "Standardization is a technique used to transform numerical variables so that they have a mean of zero and a standard deviation of one. This transformation is applied by subtracting the mean from the data and dividing by the standard deviation. The formula for z-score standardization is as follows:\n",
    "\n",
    "$variable_{standardized} = \\frac{{variable - mean}}{{standard\\_deviation}}$"
   ]
  },
  {
   "cell_type": "code",
   "execution_count": null,
   "id": "9611f76e",
   "metadata": {
    "scrolled": true
   },
   "outputs": [],
   "source": [
    "rgp_n1 = (rgp_n1-rgp_n1.mean())/rgp_n1.std()\n",
    "rgp_n1.describe().apply(lambda s: s.apply('{0:.5f}'.format)).T"
   ]
  },
  {
   "cell_type": "markdown",
   "id": "23138373",
   "metadata": {},
   "source": [
    "# Correlation Matrices\n",
    "Correlation matrices are representations of the relationships between multiple variables. Scatter plots can be printed to graphically visualize these relationships. In addition, correlation coefficients, such as Pearson's, Kendall's or Spearman's correlation coefficient, which quantify the strength and direction of relationships, can be calculated. Interpreting the coefficients implies understanding that high values do not imply causality. In summary, correlation matrices and scatter plots help to understand the relationships between variables, while correlation coefficients provide quantitative measures of those relationships."
   ]
  },
  {
   "cell_type": "markdown",
   "id": "6d7cf88e",
   "metadata": {},
   "source": [
    "### Functions"
   ]
  },
  {
   "cell_type": "code",
   "execution_count": null,
   "id": "d1a305a3",
   "metadata": {},
   "outputs": [],
   "source": [
    "def corr_func(x, y, ax=None, **kws):\n",
    "    \"\"\"Plot the correlation coefficient in the top right hand corner of a plot.\n",
    "    \"\"\"\n",
    "    r, _ = pearsonr(x, y)\n",
    "    s, _ = spearmanr(x, y)\n",
    "    k, _ = kendalltau(x, y)\n",
    "    fontsize = 30\n",
    "    ax = ax or plt.gca()\n",
    "    ax.annotate(f'P = {r:.2f}', xy=(.5, .70), xycoords=ax.transAxes,\n",
    "                fontsize=fontsize, ha='center')\n",
    "    ax.annotate(f'S = {s:.2f}', xy=(.5, .50), xycoords=ax.transAxes,\n",
    "                fontsize=fontsize, ha='center')\n",
    "    ax.annotate(f'K = {k:.2f}', xy=(.5, .30), xycoords=ax.transAxes,\n",
    "                fontsize=fontsize, ha='center')\n",
    "\n",
    "#-----------------------------------------------------------------------------------------------------------------------------\n",
    "def corr_pairs(df):\n",
    "    corr_df = df.corr().abs() # Calcula la matriz de correlación y toma los valores absolutos\n",
    "    corr_pairs = corr_df.unstack().sort_values(ascending=False).drop_duplicates() # Desenrolla la matriz y ordena los valores\n",
    "    corr_pairs = corr_pairs[corr_pairs.index.get_level_values(0) != corr_pairs.index.get_level_values(1)] # Elimina los pares de variables iguales\n",
    "    corr_pairs = corr_pairs[(corr_pairs >= 0.7) | (corr_pairs <= -0.7)] # Filtra los valores que sean mayores o iguales a 0.7 o menores o iguales a -0.7\n",
    "    return corr_pairs\n",
    "\n",
    "#-----------------------------------------------------------------------------------------------------------------------------\n",
    "def most_common_vars(df, n):\n",
    "    \"\"\"Returns the n most common variables in a DataFrame.\n",
    "    \"\"\"\n",
    "    var_counts = pd.Series(df.columns).value_counts()\n",
    "    return list(var_counts.head(n).index)\n",
    "\n",
    "#-----------------------------------------------------------------------------------------------------------------------------\n",
    "def corrfuncK(x, y, **kwds):\n",
    "    cmap = kwds['cmap']\n",
    "    norm = kwds['norm']\n",
    "    ax = plt.gca()\n",
    "    ax.tick_params(bottom=False, top=False, left=False, right=False)\n",
    "    sns.despine(ax=ax, bottom=True, top=True, left=True, right=True)\n",
    "    r, _ = kendalltau(x, y)\n",
    "    facecolor = cmap(norm(r))\n",
    "    ax.set_facecolor(facecolor)\n",
    "    lightness = (max(facecolor[:3]) + min(facecolor[:3]) ) / 2\n",
    "    ax.annotate(f\"{r:.2f}\", xy=(.5, .5), xycoords=ax.transAxes,\n",
    "                color='white' if lightness < 0.7 else 'black', size=40, ha='center', va='center')\n",
    "    \n",
    "#-----------------------------------------------------------------------------------------------------------------------------\n",
    "def corrfuncS(x, y, **kwds):\n",
    "    cmap = kwds['cmap']\n",
    "    norm = kwds['norm']\n",
    "    ax = plt.gca()\n",
    "    ax.tick_params(bottom=False, top=False, left=False, right=False)\n",
    "    sns.despine(ax=ax, bottom=True, top=True, left=True, right=True)\n",
    "    r, _ = spearmanr(x, y)\n",
    "    facecolor = cmap(norm(r))\n",
    "    ax.set_facecolor(facecolor)\n",
    "    lightness = (max(facecolor[:3]) + min(facecolor[:3]) ) / 2\n",
    "    ax.annotate(f\"{r:.2f}\", xy=(.5, .5), xycoords=ax.transAxes,\n",
    "                color='white' if lightness < 0.7 else 'black', size=40, ha='center', va='center')\n",
    "    \n",
    "#-----------------------------------------------------------------------------------------------------------------------------\n",
    "def corrfuncP(x, y, **kwds):\n",
    "    cmap = kwds['cmap']\n",
    "    norm = kwds['norm']\n",
    "    ax = plt.gca()\n",
    "    ax.tick_params(bottom=False, top=False, left=False, right=False)\n",
    "    sns.despine(ax=ax, bottom=True, top=True, left=True, right=True)\n",
    "    r, _ = pearsonr(x, y)\n",
    "    facecolor = cmap(norm(r))\n",
    "    ax.set_facecolor(facecolor)\n",
    "    lightness = (max(facecolor[:3]) + min(facecolor[:3]) ) / 2\n",
    "    ax.annotate(f\"{r:.2f}\", xy=(.5, .5), xycoords=ax.transAxes,\n",
    "                color='white' if lightness < 0.7 else 'black', size=40, ha='center', va='center')"
   ]
  },
  {
   "cell_type": "markdown",
   "id": "6422c5fb",
   "metadata": {},
   "source": [
    "## Correlation matrix"
   ]
  },
  {
   "cell_type": "code",
   "execution_count": null,
   "id": "82bd77c4",
   "metadata": {
    "scrolled": false
   },
   "outputs": [],
   "source": [
    "data = rgp_n1.copy()\n",
    "g = sns.PairGrid(data)\n",
    "g.map_upper(corr_func)\n",
    "g.map_lower(sns.scatterplot)\n",
    "g.map_diag(sns.histplot)\n",
    "g.fig.suptitle(\"Gráfico de correlación de las variables para el pozo \"+pozo, fontsize=50, y=1)\n",
    "for ax in g.axes.flat:\n",
    "    ax.set_xlabel(ax.get_xlabel(), fontsize=29)\n",
    "    ax.set_ylabel(ax.get_ylabel(), fontsize=29)\n",
    "plt.savefig('Heatmap_correlaciones_'+pozo+'.png', format=\"png\", bbox_inches=\"tight\")\n",
    "plt.show()"
   ]
  },
  {
   "cell_type": "markdown",
   "id": "5111d1bb",
   "metadata": {},
   "source": [
    "## Variables with high correlation (positive and negative)"
   ]
  },
  {
   "cell_type": "code",
   "execution_count": null,
   "id": "8e66ab18",
   "metadata": {},
   "outputs": [],
   "source": [
    "high_corr_pairs = corr_pairs(data)\n",
    "high_corr_pairs"
   ]
  },
  {
   "cell_type": "code",
   "execution_count": null,
   "id": "3e2d4f95",
   "metadata": {},
   "outputs": [],
   "source": [
    "most_common_vars(data, 15)# the number of variables with the highest correlation can be defined"
   ]
  },
  {
   "cell_type": "markdown",
   "id": "fc39f6a5",
   "metadata": {},
   "source": [
    "## Kendall's Tau Correlation Heat Map\n",
    "Kendall's correlation coefficient is a non-parametric measure used to assess the correlation between two ranked or ordered variables. Unlike Pearson's correlation coefficient, Kendall's coefficient does not assume a linear relationship and is especially useful when data present outliers or when the relationship between variables is not strictly monotonic.\n",
    "\n",
    "The equation for Kendall's correlation coefficient, denoted as \"$\\tau\" or \"Kendall's tau\", is represented by\n",
    "\n",
    "$\\tau = \\frac{{C - D}}{{\\frac{1}{2} n (n - 1)}}$\n",
    "\n",
    "\"$C$\" is the number of concordances (pairs of elements that have the same order in both variables).\n",
    "\"$D$\" is the number of mismatches (pairs of items that have a different order in both variables).\n",
    "\"$n$\" is the sample size (number of observations).\n",
    "Kendall's correlation coefficient varies between -1 and 1, where:\n",
    "\n",
    "A value of 1 indicates a perfect positive correlation (all pairs of items have the same order in both variables).\n",
    "\n",
    "A value of -1 indicates a perfect negative correlation (all pairs of elements have an opposite order in both variables).\n",
    "\n",
    "A value of 0 indicates no correlation."
   ]
  },
  {
   "cell_type": "code",
   "execution_count": null,
   "id": "c56b8c7d",
   "metadata": {
    "scrolled": false
   },
   "outputs": [],
   "source": [
    "d1 = rgp_n1\n",
    "g = sns.PairGrid(d1)\n",
    "g.map_lower(plt.scatter, s=10)\n",
    "g.map_diag(sns.histplot, kde=False)\n",
    "g.map_upper(corrfuncK, cmap=plt.get_cmap('seismic'), norm=plt.Normalize(vmin=-1, vmax=1))\n",
    "g.fig.subplots_adjust(wspace=0.06, hspace=0.06) # equal spacing in both directions\n",
    "g.fig.suptitle('Mapa de calor de correlación por Kendall y diagramas de dispersión del pozo '+pozo,size=50, y=1.01)\n",
    "for ax in g.axes.flat:\n",
    "    ax.set_xlabel(ax.get_xlabel(), fontsize=30)\n",
    "    ax.set_ylabel(ax.get_ylabel(), fontsize=30)\n",
    "plt.savefig('Heatmap_scattergram_Kendall_'+pozo+'.png', format=\"png\", bbox_inches=\"tight\")\n",
    "plt.show()"
   ]
  },
  {
   "cell_type": "markdown",
   "id": "88519b9a",
   "metadata": {},
   "source": [
    "## Spearman's correlation heat map\n",
    "Spearman's correlation coefficient is a non-parametric measure used to assess the correlation between two ranked or ordered variables. Unlike Pearson's correlation coefficient, Spearman's coefficient does not assume a linear relationship and is based on the ranks of the data rather than the observed values.\n",
    "\n",
    "The formula for Spearman's correlation coefficient is expressed as follows:\n",
    "\n",
    "$\\rho_{spearman} = 1 - \\frac{6\\sum{d_i^2}}{n(n^2-1)}$\n",
    "\n",
    "\"$d_i$\" represents the differences between the ranks of pairs of observations.\n",
    "\"$n$\" is the sample size (number of observations).\n",
    "Spearman's correlation coefficient varies between -1 and 1, where:\n",
    "\n",
    "A value of 1 indicates a perfectly monotonic positive correlation (all pairs of items have the same order in both variables).\n",
    "\n",
    "A value of -1 indicates a perfectly monotonic negative correlation (all pairs of elements have an opposite order in both variables).\n",
    "\n",
    "A value of 0 indicates no monotonic correlation."
   ]
  },
  {
   "cell_type": "code",
   "execution_count": null,
   "id": "067ea7c1",
   "metadata": {},
   "outputs": [],
   "source": [
    "d1 = rgp_n1\n",
    "g = sns.PairGrid(d1)\n",
    "g.map_lower(plt.scatter, s=10)\n",
    "g.map_diag(sns.histplot, kde=False)\n",
    "g.map_upper(corrfuncS, cmap=plt.get_cmap('seismic'), norm=plt.Normalize(vmin=-1, vmax=1))\n",
    "g.fig.subplots_adjust(wspace=0.06, hspace=0.06) # equal spacing in both directions\n",
    "g.fig.suptitle('Mapa de calor de correlación por Spearman y diagramas de dispersión del pozo '+pozo,size=50, y=1.01)\n",
    "for ax in g.axes.flat:\n",
    "    ax.set_xlabel(ax.get_xlabel(), fontsize=30)\n",
    "    ax.set_ylabel(ax.get_ylabel(), fontsize=30)\n",
    "plt.savefig('Heatmap_scattergram_Spearman_'+pozo+'.png', format=\"png\", bbox_inches=\"tight\")\n",
    "plt.show()"
   ]
  },
  {
   "cell_type": "markdown",
   "id": "cfad9e0d",
   "metadata": {},
   "source": [
    "## Pearson's correlation heat map\n",
    "Pearson's correlation coefficient is a parametric measure used to assess the linear correlation between two continuous variables. It is a measure of the strength and direction of the linear relationship between the variables.\n",
    "\n",
    "The equation of Pearson's correlation coefficient is represented:\n",
    "\n",
    "$\\rho_{pearson} = \\frac{{\\sum{(X_i - \\bar{X})(Y_i - \\bar{Y})}}}{{\\sqrt{{\\sum{(X_i - \\bar{X})^2}} \\sum{(Y_i - \\bar{Y})^2}}}}$\n",
    "\n",
    "\"$X_i$\" and \"$Y_i$\" are the values of the two variables.\n",
    "\"$\"$\"bar{X}$\" and \"$\"$\"bar{Y}$\" are the means of the two variables.\n",
    "Pearson's correlation coefficient varies between -1 and 1, where:\n",
    "\n",
    "A value of 1 indicates a perfect positive linear linear correlation (the points tend to lie on an ascending line).\n",
    "A value of -1 indicates a perfect negative linear correlation (the points tend to be in a descending line).\n",
    "A value of 0 indicates no linear correlation (no apparent linear relationship between the variables)."
   ]
  },
  {
   "cell_type": "code",
   "execution_count": null,
   "id": "50335468",
   "metadata": {
    "scrolled": true
   },
   "outputs": [],
   "source": [
    "d1 = rgp_n1\n",
    "g = sns.PairGrid(d1)\n",
    "g.map_lower(plt.scatter, s=10)\n",
    "g.map_diag(sns.histplot, kde=False)\n",
    "g.map_upper(corrfuncP, cmap=plt.get_cmap('seismic'), norm=plt.Normalize(vmin=-1, vmax=1))\n",
    "g.fig.subplots_adjust(wspace=0.06, hspace=0.06) # equal spacing in both directions\n",
    "g.fig.suptitle('Mapa de calor de correlación por Pearson y diagramas de dispersión del pozo '+pozo,size=50, y=1.01)\n",
    "for ax in g.axes.flat:\n",
    "    ax.set_xlabel(ax.get_xlabel(), fontsize=30)\n",
    "    ax.set_ylabel(ax.get_ylabel(), fontsize=30)\n",
    "plt.savefig('Heatmap_scattergram_Pearson_'+pozo+'.png', format=\"png\", bbox_inches=\"tight\")\n",
    "plt.show()"
   ]
  }
 ],
 "metadata": {
  "kernelspec": {
   "display_name": "Python 3 (ipykernel)",
   "language": "python",
   "name": "python3"
  },
  "language_info": {
   "codemirror_mode": {
    "name": "ipython",
    "version": 3
   },
   "file_extension": ".py",
   "mimetype": "text/x-python",
   "name": "python",
   "nbconvert_exporter": "python",
   "pygments_lexer": "ipython3",
   "version": "3.10.9"
  }
 },
 "nbformat": 4,
 "nbformat_minor": 5
}
