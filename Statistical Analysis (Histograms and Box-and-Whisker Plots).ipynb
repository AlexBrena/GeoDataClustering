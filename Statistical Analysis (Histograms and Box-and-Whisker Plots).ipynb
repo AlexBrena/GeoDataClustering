{
 "cells": [
  {
   "cell_type": "markdown",
   "id": "6663600e",
   "metadata": {},
   "source": [
    "# Statistical Analysis\n",
    "This notebook provides a comprehensive statistical analysis of a selected dataset by generating histograms and box-and-whisker plots for each variable. Users can explore the distribution and central tendency measures of the dataset's variables. The notebook guides users through the process of loading the dataset, selecting the variables of interest, and generating insightful visualizations. By examining the histograms, users can gain insights into the data's frequency distribution, while the box-and-whisker plots provide information about the variable's quartiles, outliers, and overall spread. This analysis facilitates a thorough understanding of the dataset's statistical properties and aids in identifying patterns, outliers, and potential relationships between variables."
   ]
  },
  {
   "cell_type": "markdown",
   "id": "1c311713",
   "metadata": {},
   "source": [
    "## Libraries\n",
    "Libraries to be used during code development are imported."
   ]
  },
  {
   "cell_type": "code",
   "execution_count": null,
   "id": "cde154b1",
   "metadata": {},
   "outputs": [],
   "source": [
    "import matplotlib.pyplot as plt\n",
    "import numpy as np\n",
    "import pandas as pd\n",
    "import seaborn as sns\n",
    "import tkinter as tk\n",
    "from tkinter.filedialog import askopenfilename\n",
    "import warnings\n",
    "\n",
    "warnings.filterwarnings(\"ignore\")"
   ]
  },
  {
   "cell_type": "markdown",
   "id": "1ff5af2a",
   "metadata": {},
   "source": [
    "## Import Database \n",
    "In this section of the script the data to be plotted is imported. It is required that the file to work with is in a comma separated text format \".csv\". Then a summary table with database statistics is generated."
   ]
  },
  {
   "cell_type": "code",
   "execution_count": null,
   "id": "50320bc9",
   "metadata": {},
   "outputs": [],
   "source": [
    "# The root window is created.\n",
    "root = tk.Tk()\n",
    "# show askopenfilename dialog without the Tkinter window\n",
    "root.withdraw()\n",
    "\n",
    "# select csv file\n",
    "datos = askopenfilename(filetypes=[(\"csv files\", \"*.csv\")])\n",
    "\n",
    "## read the data and do rank transformation\n",
    "#rgp= pd.read_csv(datos, index_col=0)\n",
    "rgp = pd.read_csv(datos)\n",
    "rgp.describe().apply(lambda s: s.apply('{0:.5f}'.format))"
   ]
  },
  {
   "cell_type": "markdown",
   "id": "20234c45",
   "metadata": {},
   "source": [
    "## Name of your variables "
   ]
  },
  {
   "cell_type": "code",
   "execution_count": null,
   "id": "21036d64",
   "metadata": {},
   "outputs": [],
   "source": [
    "rgp.columns.tolist()"
   ]
  },
  {
   "cell_type": "markdown",
   "id": "4e899e56",
   "metadata": {},
   "source": [
    "### Standard Deviation"
   ]
  },
  {
   "cell_type": "code",
   "execution_count": null,
   "id": "5b7696ff",
   "metadata": {},
   "outputs": [],
   "source": [
    "#cantidad_col = rgp.count().to_list()\n",
    "rgp.drop('Time', inplace = True, axis = 1)\n",
    "cantidad_col = rgp.count().astype(float)\n",
    "cantidad_col.to_numpy()"
   ]
  },
  {
   "cell_type": "code",
   "execution_count": null,
   "id": "5274e366",
   "metadata": {},
   "outputs": [],
   "source": [
    "len(cantidad_col)"
   ]
  },
  {
   "cell_type": "code",
   "execution_count": null,
   "id": "ba2d542a",
   "metadata": {},
   "outputs": [],
   "source": [
    "bin_count = int(np.ceil(np.log2(len(cantidad_col))) + 1)\n",
    "bin_count   \n"
   ]
  },
  {
   "cell_type": "code",
   "execution_count": null,
   "id": "fade5181",
   "metadata": {},
   "outputs": [],
   "source": [
    "def his_box_p(a):\n",
    "    sns.set(style=\"ticks\")\n",
    "\n",
    "    x = rgp[a]\n",
    "    \n",
    "\n",
    "    f, (ax_box, ax_hist) = plt.subplots(2, sharex=True, \n",
    "                                        gridspec_kw={\"height_ratios\": (.15, .85)}, figsize=(10, 7))\n",
    "\n",
    "    sns.boxplot(x, ax=ax_box)\n",
    "    sns.histplot(x, ax=ax_hist, bins = bin_count, stat = 'count')\n",
    "\n",
    "    ax_box.set(yticks=[])\n",
    "    ax_hist.axvline(np.mean(x),color='black',linestyle='-', label = 'Mean')\n",
    "    ax_hist.axvline(np.median(x),color='red',linestyle='--', label = 'Median')\n",
    "    sns.despine(ax=ax_hist)\n",
    "    sns.despine(ax=ax_box, left=True)\n",
    "    plt.legend()\n",
    "    plt.savefig(dpi = 200, bbox_inches = 'tight')\n",
    "    plt.show()"
   ]
  },
  {
   "cell_type": "markdown",
   "id": "ded869c8",
   "metadata": {},
   "source": [
    "## Plots"
   ]
  },
  {
   "cell_type": "code",
   "execution_count": null,
   "id": "49fdce39",
   "metadata": {
    "scrolled": false
   },
   "outputs": [],
   "source": [
    "for a in subtit:\n",
    "    his_box_p(a)"
   ]
  }
 ],
 "metadata": {
  "kernelspec": {
   "display_name": "Python 3 (ipykernel)",
   "language": "python",
   "name": "python3"
  },
  "language_info": {
   "codemirror_mode": {
    "name": "ipython",
    "version": 3
   },
   "file_extension": ".py",
   "mimetype": "text/x-python",
   "name": "python",
   "nbconvert_exporter": "python",
   "pygments_lexer": "ipython3",
   "version": "3.10.9"
  }
 },
 "nbformat": 4,
 "nbformat_minor": 5
}
