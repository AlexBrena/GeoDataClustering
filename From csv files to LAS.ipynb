{
 "cells": [
  {
   "cell_type": "markdown",
   "id": "b318f757",
   "metadata": {},
   "source": [
    "This Jupyter Notebook serves as a tool to convert CSV files to LAS files. It utilizes the lasio library to facilitate the conversion process. The notebook provides an interactive interface where users can select the CSV file they want to convert and choose the destination path and name for the resulting LAS file. By running the notebook and following the prompts, users can easily transform their CSV data into the LAS format commonly used in the oil and gas industry for storing geophysical log data. The conversion process ensures seamless compatibility and enables users to leverage LAS file features for data analysis and interpretation"
   ]
  },
  {
   "cell_type": "markdown",
   "id": "72a974ac",
   "metadata": {},
   "source": [
    "## Libraries\n",
    "Libraries to be used during code development are imported."
   ]
  },
  {
   "cell_type": "code",
   "execution_count": 3,
   "id": "9b48fd1a",
   "metadata": {},
   "outputs": [],
   "source": [
    "import lasio\n",
    "import pandas as pd \n",
    "import tkinter as tk\n",
    "from tkinter import filedialog\n",
    "from tkinter.filedialog import askopenfilename"
   ]
  },
  {
   "cell_type": "markdown",
   "id": "616874f4",
   "metadata": {},
   "source": [
    "## Import Database \n",
    "In this section of the script the data to be plotted is imported. It is required that the file to work with is in a comma separated text format \".csv\". Then a summary table with database statistics is generated."
   ]
  },
  {
   "cell_type": "code",
   "execution_count": 30,
   "id": "cd8510e1",
   "metadata": {},
   "outputs": [
    {
     "data": {
      "text/html": [
       "<div>\n",
       "<style scoped>\n",
       "    .dataframe tbody tr th:only-of-type {\n",
       "        vertical-align: middle;\n",
       "    }\n",
       "\n",
       "    .dataframe tbody tr th {\n",
       "        vertical-align: top;\n",
       "    }\n",
       "\n",
       "    .dataframe thead th {\n",
       "        text-align: right;\n",
       "    }\n",
       "</style>\n",
       "<table border=\"1\" class=\"dataframe\">\n",
       "  <thead>\n",
       "    <tr style=\"text-align: right;\">\n",
       "      <th></th>\n",
       "      <th>DEPT</th>\n",
       "      <th>ECGR</th>\n",
       "      <th>AT90</th>\n",
       "      <th>RHOZ</th>\n",
       "      <th>DTCO</th>\n",
       "      <th>DTSM</th>\n",
       "      <th>NPHI</th>\n",
       "    </tr>\n",
       "  </thead>\n",
       "  <tbody>\n",
       "    <tr>\n",
       "      <th>count</th>\n",
       "      <td>7513.00000</td>\n",
       "      <td>7513.00000</td>\n",
       "      <td>7513.00000</td>\n",
       "      <td>7513.00000</td>\n",
       "      <td>7513.00000</td>\n",
       "      <td>7513.00000</td>\n",
       "      <td>7513.00000</td>\n",
       "    </tr>\n",
       "    <tr>\n",
       "      <th>mean</th>\n",
       "      <td>1278.33120</td>\n",
       "      <td>68.85613</td>\n",
       "      <td>3.97952</td>\n",
       "      <td>2.51642</td>\n",
       "      <td>90.30831</td>\n",
       "      <td>188.94403</td>\n",
       "      <td>0.26773</td>\n",
       "    </tr>\n",
       "    <tr>\n",
       "      <th>std</th>\n",
       "      <td>330.54960</td>\n",
       "      <td>13.25824</td>\n",
       "      <td>3.23325</td>\n",
       "      <td>0.07318</td>\n",
       "      <td>12.16394</td>\n",
       "      <td>36.78915</td>\n",
       "      <td>0.06462</td>\n",
       "    </tr>\n",
       "    <tr>\n",
       "      <th>min</th>\n",
       "      <td>705.91680</td>\n",
       "      <td>22.97560</td>\n",
       "      <td>0.57430</td>\n",
       "      <td>2.18300</td>\n",
       "      <td>59.41090</td>\n",
       "      <td>112.59790</td>\n",
       "      <td>0.06510</td>\n",
       "    </tr>\n",
       "    <tr>\n",
       "      <th>25%</th>\n",
       "      <td>992.12400</td>\n",
       "      <td>62.39860</td>\n",
       "      <td>2.19330</td>\n",
       "      <td>2.44130</td>\n",
       "      <td>81.97110</td>\n",
       "      <td>165.42280</td>\n",
       "      <td>0.22840</td>\n",
       "    </tr>\n",
       "    <tr>\n",
       "      <th>50%</th>\n",
       "      <td>1278.33120</td>\n",
       "      <td>70.09090</td>\n",
       "      <td>3.33640</td>\n",
       "      <td>2.53820</td>\n",
       "      <td>88.36340</td>\n",
       "      <td>179.16620</td>\n",
       "      <td>0.26180</td>\n",
       "    </tr>\n",
       "    <tr>\n",
       "      <th>75%</th>\n",
       "      <td>1564.53840</td>\n",
       "      <td>78.27730</td>\n",
       "      <td>4.22640</td>\n",
       "      <td>2.57260</td>\n",
       "      <td>102.83740</td>\n",
       "      <td>221.32770</td>\n",
       "      <td>0.32100</td>\n",
       "    </tr>\n",
       "    <tr>\n",
       "      <th>max</th>\n",
       "      <td>1850.74560</td>\n",
       "      <td>167.69470</td>\n",
       "      <td>60.65310</td>\n",
       "      <td>2.72670</td>\n",
       "      <td>121.13490</td>\n",
       "      <td>311.19950</td>\n",
       "      <td>0.49110</td>\n",
       "    </tr>\n",
       "  </tbody>\n",
       "</table>\n",
       "</div>"
      ],
      "text/plain": [
       "             DEPT        ECGR        AT90        RHOZ        DTCO        DTSM  \\\n",
       "count  7513.00000  7513.00000  7513.00000  7513.00000  7513.00000  7513.00000   \n",
       "mean   1278.33120    68.85613     3.97952     2.51642    90.30831   188.94403   \n",
       "std     330.54960    13.25824     3.23325     0.07318    12.16394    36.78915   \n",
       "min     705.91680    22.97560     0.57430     2.18300    59.41090   112.59790   \n",
       "25%     992.12400    62.39860     2.19330     2.44130    81.97110   165.42280   \n",
       "50%    1278.33120    70.09090     3.33640     2.53820    88.36340   179.16620   \n",
       "75%    1564.53840    78.27730     4.22640     2.57260   102.83740   221.32770   \n",
       "max    1850.74560   167.69470    60.65310     2.72670   121.13490   311.19950   \n",
       "\n",
       "             NPHI  \n",
       "count  7513.00000  \n",
       "mean      0.26773  \n",
       "std       0.06462  \n",
       "min       0.06510  \n",
       "25%       0.22840  \n",
       "50%       0.26180  \n",
       "75%       0.32100  \n",
       "max       0.49110  "
      ]
     },
     "execution_count": 30,
     "metadata": {},
     "output_type": "execute_result"
    }
   ],
   "source": [
    "# The root window is created.\n",
    "root = tk.Tk()\n",
    "# show askopenfilename dialog without the Tkinter window\n",
    "root.withdraw()\n",
    "\n",
    "# select csv file\n",
    "datos = askopenfilename(filetypes=[(\"Csv files\", \"*.csv\")])\n",
    "\n",
    "## read the data and do rank transformation\n",
    "#rgp= pd.read_csv(datos, index_col=0)\n",
    "rgp= pd.read_csv(datos)\n",
    "rgp.describe().apply(lambda s: s.apply('{0:.5f}'.format))"
   ]
  },
  {
   "cell_type": "code",
   "execution_count": 31,
   "id": "652fa709",
   "metadata": {},
   "outputs": [],
   "source": [
    "las_file = lasio.LASFile()"
   ]
  },
  {
   "cell_type": "markdown",
   "id": "04c696eb",
   "metadata": {},
   "source": [
    "## Parameters\n",
    "Add the well parameters as well name, field name, UWI, define NULL number and Kelly Bushing"
   ]
  },
  {
   "cell_type": "code",
   "execution_count": 32,
   "id": "5e7b3c04",
   "metadata": {},
   "outputs": [],
   "source": [
    "well_name = 'Well 1' #well name\n",
    "field_name = 'Random Field'\n",
    "uwi = '123456'\n",
    "null = -999.25\n",
    "ekb = 151.86"
   ]
  },
  {
   "cell_type": "code",
   "execution_count": 33,
   "id": "7da0f4bd",
   "metadata": {},
   "outputs": [],
   "source": [
    "las_file.well['WELL'] = lasio.HeaderItem('WELL', value = well_name)\n",
    "las_file.well['FLD'] = lasio.HeaderItem('FLD', value = field_name)\n",
    "las_file.well['UWI'] = lasio.HeaderItem('UWI', value = uwi)\n",
    "las_file.well['NULL'] = lasio.HeaderItem('NULL', value = null)\n",
    "las_file.params['EKB'] = lasio.HeaderItem('EKB', value=ekb)"
   ]
  },
  {
   "cell_type": "markdown",
   "id": "6f48810e",
   "metadata": {},
   "source": [
    "### Add the depth curve\n",
    "Choose m or ft"
   ]
  },
  {
   "cell_type": "code",
   "execution_count": null,
   "id": "884626dd",
   "metadata": {},
   "outputs": [],
   "source": [
    "las_file.add_curve('DEPT', rgp['DEPT'], unit = 'm')"
   ]
  },
  {
   "cell_type": "markdown",
   "id": "510a9026",
   "metadata": {},
   "source": [
    "### LAS file header "
   ]
  },
  {
   "cell_type": "code",
   "execution_count": 35,
   "id": "faebc2b4",
   "metadata": {
    "scrolled": false
   },
   "outputs": [
    {
     "data": {
      "text/plain": [
       "{'Version': [HeaderItem(mnemonic=\"VERS\", unit=\"\", value=\"2.0\", descr=\"CWLS log ASCII Standa\"),\n",
       "  HeaderItem(mnemonic=\"WRAP\", unit=\"\", value=\"NO\", descr=\"One line per depth ste\"),\n",
       "  HeaderItem(mnemonic=\"DLM\", unit=\"\", value=\"SPACE\", descr=\"Column Data Section \")],\n",
       " 'Well': [HeaderItem(mnemonic=\"STRT\", unit=\"m\", value=\"nan\", descr=\"START DEPTH\"),\n",
       "  HeaderItem(mnemonic=\"STOP\", unit=\"m\", value=\"nan\", descr=\"STOP DEPTH\"),\n",
       "  HeaderItem(mnemonic=\"STEP\", unit=\"m\", value=\"nan\", descr=\"STEP\"),\n",
       "  HeaderItem(mnemonic=\"NULL\", unit=\"\", value=\"-999.25\", descr=\"\"),\n",
       "  HeaderItem(mnemonic=\"COMP\", unit=\"\", value=\"\", descr=\"COMPANY\"),\n",
       "  HeaderItem(mnemonic=\"WELL\", unit=\"\", value=\"AGF0705\", descr=\"\"),\n",
       "  HeaderItem(mnemonic=\"FLD\", unit=\"\", value=\"Random Field\", descr=\"\"),\n",
       "  HeaderItem(mnemonic=\"LOC\", unit=\"\", value=\"\", descr=\"LOCATION\"),\n",
       "  HeaderItem(mnemonic=\"PROV\", unit=\"\", value=\"\", descr=\"PROVINCE\"),\n",
       "  HeaderItem(mnemonic=\"CNTY\", unit=\"\", value=\"\", descr=\"COUNTY\"),\n",
       "  HeaderItem(mnemonic=\"STAT\", unit=\"\", value=\"\", descr=\"STATE\"),\n",
       "  HeaderItem(mnemonic=\"CTRY\", unit=\"\", value=\"\", descr=\"COUNTRY\"),\n",
       "  HeaderItem(mnemonic=\"SRVC\", unit=\"\", value=\"\", descr=\"SERVICE COMPANY\"),\n",
       "  HeaderItem(mnemonic=\"DATE\", unit=\"\", value=\"\", descr=\"DATE\"),\n",
       "  HeaderItem(mnemonic=\"UWI\", unit=\"\", value=\"123456\", descr=\"\"),\n",
       "  HeaderItem(mnemonic=\"API\", unit=\"\", value=\"\", descr=\"API NUMBER\")],\n",
       " 'Curves': [CurveItem(mnemonic=\"DEPT\", unit=\"m\", value=\"\", descr=\"\", original_mnemonic=\"DEPT\", data.shape=(7513,))],\n",
       " 'Parameter': [HeaderItem(mnemonic=\"EKB\", unit=\"\", value=\"151.86\", descr=\"\")],\n",
       " 'Other': ''}"
      ]
     },
     "execution_count": 35,
     "metadata": {},
     "output_type": "execute_result"
    }
   ],
   "source": [
    "las_file.header"
   ]
  },
  {
   "cell_type": "markdown",
   "id": "f69c5e7f",
   "metadata": {},
   "source": [
    "## Add the units for each curve"
   ]
  },
  {
   "cell_type": "code",
   "execution_count": 36,
   "id": "aba30c71",
   "metadata": {},
   "outputs": [],
   "source": [
    "units = ['m', 'API', 'ohm.m', 'g/cm3', 'us/ft', 'us/ft', 'v/v_decimal'] #Well 1"
   ]
  },
  {
   "cell_type": "code",
   "execution_count": 37,
   "id": "d336e9dd",
   "metadata": {},
   "outputs": [],
   "source": [
    "for col, unit in zip(rgp.columns, units):\n",
    "    if col != 'DEPT':\n",
    "        las_file.add_curve(col, rgp[col], unit = unit)"
   ]
  },
  {
   "cell_type": "code",
   "execution_count": 38,
   "id": "9e70c53e",
   "metadata": {},
   "outputs": [
    {
     "data": {
      "text/plain": [
       "[CurveItem(mnemonic=\"DEPT\", unit=\"m\", value=\"\", descr=\"\", original_mnemonic=\"DEPT\", data.shape=(7513,)),\n",
       " CurveItem(mnemonic=\"ECGR\", unit=\"API\", value=\"\", descr=\"\", original_mnemonic=\"ECGR\", data.shape=(7513,)),\n",
       " CurveItem(mnemonic=\"AT90\", unit=\"ohm.m\", value=\"\", descr=\"\", original_mnemonic=\"AT90\", data.shape=(7513,)),\n",
       " CurveItem(mnemonic=\"RHOZ\", unit=\"g/cm3\", value=\"\", descr=\"\", original_mnemonic=\"RHOZ\", data.shape=(7513,)),\n",
       " CurveItem(mnemonic=\"DTCO\", unit=\"us/ft\", value=\"\", descr=\"\", original_mnemonic=\"DTCO\", data.shape=(7513,)),\n",
       " CurveItem(mnemonic=\"DTSM\", unit=\"us/ft\", value=\"\", descr=\"\", original_mnemonic=\"DTSM\", data.shape=(7513,)),\n",
       " CurveItem(mnemonic=\"NPHI\", unit=\"v/v_decimal\", value=\"\", descr=\"\", original_mnemonic=\"NPHI\", data.shape=(7513,))]"
      ]
     },
     "execution_count": 38,
     "metadata": {},
     "output_type": "execute_result"
    }
   ],
   "source": [
    "las_file.curves"
   ]
  },
  {
   "cell_type": "markdown",
   "id": "e3651beb",
   "metadata": {},
   "source": [
    "## Save your LAS file"
   ]
  },
  {
   "cell_type": "code",
   "execution_count": 5,
   "id": "5ec94b04",
   "metadata": {},
   "outputs": [],
   "source": [
    "def guardar_archivo():\n",
    "    # Prompt user to select the file path and name\n",
    "    file_path = filedialog.asksaveasfilename(defaultextension=\".las\")\n",
    "    if file_path:\n",
    "        # Write the file using the selected file path\n",
    "        las_file.write(file_path)\n",
    "\n",
    "# Create the main window\n",
    "window = tk.Tk()\n",
    "\n",
    "# Add a button to save the file\n",
    "save_button = tk.Button(window, text=\"Save file\", command=guardar_archivo)\n",
    "save_button.pack()\n",
    "\n",
    "# Start the event loop\n",
    "window.mainloop()"
   ]
  }
 ],
 "metadata": {
  "kernelspec": {
   "display_name": "Python 3 (ipykernel)",
   "language": "python",
   "name": "python3"
  },
  "language_info": {
   "codemirror_mode": {
    "name": "ipython",
    "version": 3
   },
   "file_extension": ".py",
   "mimetype": "text/x-python",
   "name": "python",
   "nbconvert_exporter": "python",
   "pygments_lexer": "ipython3",
   "version": "3.10.9"
  }
 },
 "nbformat": 4,
 "nbformat_minor": 5
}
