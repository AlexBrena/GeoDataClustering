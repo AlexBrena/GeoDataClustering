{
 "cells": [
  {
   "cell_type": "markdown",
   "id": "8fa0d467",
   "metadata": {},
   "source": [
    "# Cuaderno para analisis de correlación de registros de pozo con Python"
   ]
  },
  {
   "cell_type": "markdown",
   "id": "b2019a83",
   "metadata": {},
   "source": [
    "Este cuaderno de Python tiene como objetivo realizar un análisis de correlación entre las variables relacionadas con un pozo. El objetivo principal es identificar posibles relaciones o dependencias entre estas características del pozo.\n",
    "\n",
    "El cuaderno utiliza diferentes métodos de correlación, incluyendo el coeficiente de correlación de Pearson, el coeficiente de correlación de Kendall y el coeficiente de correlación de Spearman. Estos métodos nos permiten evaluar la fuerza y la dirección de la relación entre variables numéricas.\n",
    "\n",
    "Además, se generan mapas de calor (heatmap) que visualizan las correlaciones encontradas. Estos mapas proporcionan una representación gráfica intuitiva de la magnitud de las correlaciones, permitiendo identificar patrones y tendencias entre el RGP y otras características del pozo. El cuaderno es altamente personalizable y permite la selección de las variables específicas a analizar. \n",
    "\n",
    "Este cuaderno es una herramienta poderosa para el análisis exploratorio de datos en proyectos relacionados con la industria petrolera, ya que permite comprender mejor las relaciones entre las variables clave de un pozo, facilitando la toma de decisiones informadas y la optimización de los procesos involucrados."
   ]
  },
  {
   "cell_type": "markdown",
   "id": "4d413131",
   "metadata": {},
   "source": [
    "## Bibliotecas a utilizar"
   ]
  },
  {
   "cell_type": "markdown",
   "id": "c87a6a27",
   "metadata": {},
   "source": [
    "Se importan las bibliotecas a utilizar durante el desarrollo de código."
   ]
  },
  {
   "cell_type": "code",
   "execution_count": 2,
   "id": "3f7db747",
   "metadata": {},
   "outputs": [],
   "source": [
    "#======================Bibliotecas para graficar=============================#\n",
    "import matplotlib.pyplot as plt\n",
    "import matplotlib as mpl\n",
    "import matplotlib.patches as mpatches\n",
    "import matplotlib.colors\n",
    "from matplotlib.ticker import StrMethodFormatter\n",
    "from scipy.stats import pearsonr\n",
    "from scipy.stats import kendalltau\n",
    "from scipy.stats import spearmanr\n",
    "import seaborn as sns\n",
    "\n",
    "#======================Bibliotecas para análisis numérico y de datos=========#\n",
    "import numpy as np\n",
    "import pandas as pd\n",
    "import scipy.stats\n",
    "\n",
    "#======================Bibliotecas para desarrollo de interfaces gráficas====#\n",
    "import tkinter as tk\n",
    "from tkinter.filedialog import askopenfilename"
   ]
  },
  {
   "cell_type": "markdown",
   "id": "2d2fe525",
   "metadata": {},
   "source": [
    "## Importar Base de Datos "
   ]
  },
  {
   "cell_type": "markdown",
   "id": "4c90bfe2",
   "metadata": {},
   "source": [
    "En esta sección del script se importan los datos que se van a graficar. Se requiere que el archivo a trabajar este en un formato de texto separado por comas \".csv\". Después se genera una tabla resumen con estadigráfos de la base de datos."
   ]
  },
  {
   "cell_type": "code",
   "execution_count": null,
   "id": "9865371b",
   "metadata": {},
   "outputs": [],
   "source": [
    "#====================Se crea la ventana con la que se accedará al directorio de la base de datos===#\n",
    "root = tk.Tk()\n",
    "root.withdraw()\n",
    "\n",
    "#====================Dentro de la ventana se selecciona la base de data a abrir====================#\n",
    "datos = askopenfilename(filetypes = [(\"csv files\", \"*.csv\")])\n",
    "\n",
    "#====================Se lee la base de datos y se presenta un resumen con estadígrafos de esta=====#\n",
    "rgp = pd.read_csv(datos)"
   ]
  },
  {
   "cell_type": "markdown",
   "id": "41df85e1",
   "metadata": {},
   "source": [
    "## Agrega el nombre de tu pozo o archivo"
   ]
  },
  {
   "cell_type": "code",
   "execution_count": null,
   "id": "6d1010a9",
   "metadata": {},
   "outputs": [],
   "source": [
    "pozo = 'Nombre del pozo'"
   ]
  },
  {
   "cell_type": "markdown",
   "id": "dfcf5f04",
   "metadata": {},
   "source": [
    "## Nombre de tus variables "
   ]
  },
  {
   "cell_type": "code",
   "execution_count": null,
   "id": "3bc1323f",
   "metadata": {},
   "outputs": [],
   "source": [
    "rgp.columns.tolist()"
   ]
  },
  {
   "cell_type": "markdown",
   "id": "fdc3d62f",
   "metadata": {},
   "source": [
    "## Selección de variables\n",
    "En esta sección puedes escoger las variables a las que quieras analizar su correlación"
   ]
  },
  {
   "cell_type": "code",
   "execution_count": null,
   "id": "56026fd7",
   "metadata": {},
   "outputs": [],
   "source": [
    "rgp_n1 = rgp[[\n",
    "    'Varaible 1',\n",
    "    'Varaible 2',\n",
    "    'Varaible 3',\n",
    "    'Varaible 4',\n",
    "    'Varaible 5']]  \n",
    "rgp_n1.describe().apply(lambda s: s.apply('{0:.4f}'.format)).T\n",
    "\n",
    "\n",
    "#rgp_n1 = rgp #Para analizar todas las variables"
   ]
  },
  {
   "cell_type": "markdown",
   "id": "5772057e",
   "metadata": {},
   "source": [
    "## Estandarización de variables (Estandarización Z-score)\n",
    "La estandarización es una técnica utilizada para transformar variables numéricas de manera que tengan una media de cero y una desviación estándar de uno. Esta transformación se aplica restando la media de los datos y dividiendo por la desviación estándar. La fórmula para la estandarización z-score es la siguiente:\n",
    "\n",
    "$variable_{estandarizada} = \\frac{{variable - media}}{{desviacion\\_estandar}}$"
   ]
  },
  {
   "cell_type": "code",
   "execution_count": null,
   "id": "9611f76e",
   "metadata": {
    "scrolled": true
   },
   "outputs": [],
   "source": [
    "rgp_n1 = (rgp_n1-rgp_n1.mean())/rgp_n1.std()\n",
    "rgp_n1.describe().apply(lambda s: s.apply('{0:.5f}'.format)).T"
   ]
  },
  {
   "cell_type": "markdown",
   "id": "23138373",
   "metadata": {},
   "source": [
    "# Matrices de Correlación\n",
    "Las matrices de correlación son representaciones de las relaciones entre múltiples variables. Se pueden imprimir diagramas de dispersión para visualizar gráficamente estas relaciones. Además, se pueden calcular los coeficientes de correlación, como el coeficiente de correlación de Pearson, Kendall o Spearman, que cuantifican la fuerza y dirección de las relaciones. Interpretar los coeficientes implica comprender que valores altos no implican causalidad. En resumen, las matrices de correlación y los diagramas de dispersión ayudan a entender las relaciones entre variables, mientras que los coeficientes de correlación proporcionan medidas cuantitativas de esas relaciones."
   ]
  },
  {
   "cell_type": "markdown",
   "id": "6d7cf88e",
   "metadata": {},
   "source": [
    "### Funciones"
   ]
  },
  {
   "cell_type": "code",
   "execution_count": 1,
   "id": "d1a305a3",
   "metadata": {},
   "outputs": [],
   "source": [
    "def corr_func(x, y, ax=None, **kws):\n",
    "    \"\"\"Plot the correlation coefficient in the top right hand corner of a plot.\n",
    "    \"\"\"\n",
    "    r, _ = pearsonr(x, y)\n",
    "    s, _ = spearmanr(x, y)\n",
    "    k, _ = kendalltau(x, y)\n",
    "    fontsize = 30\n",
    "    ax = ax or plt.gca()\n",
    "    ax.annotate(f'P = {r:.2f}', xy=(.5, .70), xycoords=ax.transAxes,\n",
    "                fontsize=fontsize, ha='center')\n",
    "    ax.annotate(f'S = {s:.2f}', xy=(.5, .50), xycoords=ax.transAxes,\n",
    "                fontsize=fontsize, ha='center')\n",
    "    ax.annotate(f'K = {k:.2f}', xy=(.5, .30), xycoords=ax.transAxes,\n",
    "                fontsize=fontsize, ha='center')\n",
    "\n",
    "#-----------------------------------------------------------------------------------------------------------------------------\n",
    "def corr_pairs(df):\n",
    "    corr_df = df.corr().abs() # Calcula la matriz de correlación y toma los valores absolutos\n",
    "    corr_pairs = corr_df.unstack().sort_values(ascending=False).drop_duplicates() # Desenrolla la matriz y ordena los valores\n",
    "    corr_pairs = corr_pairs[corr_pairs.index.get_level_values(0) != corr_pairs.index.get_level_values(1)] # Elimina los pares de variables iguales\n",
    "    corr_pairs = corr_pairs[(corr_pairs >= 0.7) | (corr_pairs <= -0.7)] # Filtra los valores que sean mayores o iguales a 0.7 o menores o iguales a -0.7\n",
    "    return corr_pairs\n",
    "\n",
    "#-----------------------------------------------------------------------------------------------------------------------------\n",
    "def most_common_vars(df, n):\n",
    "    \"\"\"Returns the n most common variables in a DataFrame.\n",
    "    \"\"\"\n",
    "    var_counts = pd.Series(df.columns).value_counts()\n",
    "    return list(var_counts.head(n).index)\n",
    "\n",
    "#-----------------------------------------------------------------------------------------------------------------------------\n",
    "def corrfuncK(x, y, **kwds):\n",
    "    cmap = kwds['cmap']\n",
    "    norm = kwds['norm']\n",
    "    ax = plt.gca()\n",
    "    ax.tick_params(bottom=False, top=False, left=False, right=False)\n",
    "    sns.despine(ax=ax, bottom=True, top=True, left=True, right=True)\n",
    "    r, _ = kendalltau(x, y)\n",
    "    facecolor = cmap(norm(r))\n",
    "    ax.set_facecolor(facecolor)\n",
    "    lightness = (max(facecolor[:3]) + min(facecolor[:3]) ) / 2\n",
    "    ax.annotate(f\"{r:.2f}\", xy=(.5, .5), xycoords=ax.transAxes,\n",
    "                color='white' if lightness < 0.7 else 'black', size=40, ha='center', va='center')\n",
    "    \n",
    "#-----------------------------------------------------------------------------------------------------------------------------\n",
    "def corrfuncS(x, y, **kwds):\n",
    "    cmap = kwds['cmap']\n",
    "    norm = kwds['norm']\n",
    "    ax = plt.gca()\n",
    "    ax.tick_params(bottom=False, top=False, left=False, right=False)\n",
    "    sns.despine(ax=ax, bottom=True, top=True, left=True, right=True)\n",
    "    r, _ = spearmanr(x, y)\n",
    "    facecolor = cmap(norm(r))\n",
    "    ax.set_facecolor(facecolor)\n",
    "    lightness = (max(facecolor[:3]) + min(facecolor[:3]) ) / 2\n",
    "    ax.annotate(f\"{r:.2f}\", xy=(.5, .5), xycoords=ax.transAxes,\n",
    "                color='white' if lightness < 0.7 else 'black', size=40, ha='center', va='center')\n",
    "    \n",
    "#-----------------------------------------------------------------------------------------------------------------------------\n",
    "def corrfuncP(x, y, **kwds):\n",
    "    cmap = kwds['cmap']\n",
    "    norm = kwds['norm']\n",
    "    ax = plt.gca()\n",
    "    ax.tick_params(bottom=False, top=False, left=False, right=False)\n",
    "    sns.despine(ax=ax, bottom=True, top=True, left=True, right=True)\n",
    "    r, _ = pearsonr(x, y)\n",
    "    facecolor = cmap(norm(r))\n",
    "    ax.set_facecolor(facecolor)\n",
    "    lightness = (max(facecolor[:3]) + min(facecolor[:3]) ) / 2\n",
    "    ax.annotate(f\"{r:.2f}\", xy=(.5, .5), xycoords=ax.transAxes,\n",
    "                color='white' if lightness < 0.7 else 'black', size=40, ha='center', va='center')"
   ]
  },
  {
   "cell_type": "markdown",
   "id": "6422c5fb",
   "metadata": {},
   "source": [
    "## Matriz de correlación general"
   ]
  },
  {
   "cell_type": "code",
   "execution_count": null,
   "id": "82bd77c4",
   "metadata": {
    "scrolled": false
   },
   "outputs": [],
   "source": [
    "data = rgp_n1.copy()\n",
    "g = sns.PairGrid(data)\n",
    "g.map_upper(corr_func)\n",
    "g.map_lower(sns.scatterplot)\n",
    "g.map_diag(sns.histplot)\n",
    "g.fig.suptitle(\"Gráfico de correlación de las variables para el pozo \"+pozo, fontsize=50, y=1)\n",
    "for ax in g.axes.flat:\n",
    "    ax.set_xlabel(ax.get_xlabel(), fontsize=29)\n",
    "    ax.set_ylabel(ax.get_ylabel(), fontsize=29)\n",
    "plt.savefig('Heatmap_correlaciones_'+pozo+'.png', format=\"png\", bbox_inches=\"tight\")\n",
    "plt.show()"
   ]
  },
  {
   "cell_type": "markdown",
   "id": "5111d1bb",
   "metadata": {},
   "source": [
    "## Variables con correlación alta (positiva y negativa)"
   ]
  },
  {
   "cell_type": "code",
   "execution_count": null,
   "id": "8e66ab18",
   "metadata": {},
   "outputs": [],
   "source": [
    "high_corr_pairs = corr_pairs(data)\n",
    "high_corr_pairs"
   ]
  },
  {
   "cell_type": "code",
   "execution_count": null,
   "id": "3e2d4f95",
   "metadata": {},
   "outputs": [],
   "source": [
    "most_common_vars(data, 15)# se puede cambiar el número para definir el número de variables con mayor correlación"
   ]
  },
  {
   "cell_type": "markdown",
   "id": "fc39f6a5",
   "metadata": {},
   "source": [
    "## Mapa de calor de correlación de Kendall Tau\n",
    "El coeficiente de correlación de Kendall es una medida no paramétrica utilizada para evaluar la correlación entre dos variables clasificadas o ordenadas. A diferencia del coeficiente de correlación de Pearson, el coeficiente de Kendall no asume una relación lineal y es especialmente útil cuando los datos presentan valores atípicos o cuando la relación entre las variables no es estrictamente monotónica.\n",
    "\n",
    "La ecuación del coeficiente de correlación de Kendall, denotado como \"$\\tau$\" o \"Kendall's tau\", se representa\n",
    "\n",
    "$\\tau = \\frac{{C - D}}{{\\frac{1}{2} n (n - 1)}}$\n",
    "\n",
    "Donde:\n",
    "\n",
    "\"$C$\" es el número de concordancias (pares de elementos que tienen el mismo orden en ambas variables).\n",
    "\"$D$\" es el número de discordancias (pares de elementos que tienen un orden diferente en ambas variables).\n",
    "\"$n$\" es el tamaño de la muestra (número de observaciones).\n",
    "El coeficiente de correlación de Kendall varía entre -1 y 1, donde:\n",
    "\n",
    "Un valor de 1 indica una correlación perfecta positiva (todos los pares de elementos tienen el mismo orden en ambas variables).\n",
    "Un valor de -1 indica una correlación perfecta negativa (todos los pares de elementos tienen un orden opuesto en ambas variables).\n",
    "Un valor de 0 indica ausencia de correlación."
   ]
  },
  {
   "cell_type": "code",
   "execution_count": null,
   "id": "c56b8c7d",
   "metadata": {
    "scrolled": false
   },
   "outputs": [],
   "source": [
    "d1 = rgp_n1\n",
    "g = sns.PairGrid(d1)\n",
    "g.map_lower(plt.scatter, s=10)\n",
    "g.map_diag(sns.histplot, kde=False)\n",
    "g.map_upper(corrfuncK, cmap=plt.get_cmap('seismic'), norm=plt.Normalize(vmin=-1, vmax=1))\n",
    "g.fig.subplots_adjust(wspace=0.06, hspace=0.06) # equal spacing in both directions\n",
    "g.fig.suptitle('Mapa de calor de correlación por Kendall y diagramas de dispersión del pozo '+pozo,size=50, y=1.01)\n",
    "for ax in g.axes.flat:\n",
    "    ax.set_xlabel(ax.get_xlabel(), fontsize=30)\n",
    "    ax.set_ylabel(ax.get_ylabel(), fontsize=30)\n",
    "plt.savefig('Heatmap_scattergram_Kendall_'+pozo+'.png', format=\"png\", bbox_inches=\"tight\")\n",
    "plt.show()"
   ]
  },
  {
   "cell_type": "markdown",
   "id": "88519b9a",
   "metadata": {},
   "source": [
    "## Mapa de calor de correlación de Spearman\n",
    "El coeficiente de correlación de Spearman es una medida no paramétrica utilizada para evaluar la correlación entre dos variables clasificadas u ordenadas. A diferencia del coeficiente de correlación de Pearson, el coeficiente de Spearman no asume una relación lineal y se basa en los rangos de los datos en lugar de los valores observados.\n",
    "\n",
    "La fórmula del coeficiente de correlación de Spearman se expresa de la siguiente manera:\n",
    "\n",
    "$\\rho_{spearman} = 1 - \\frac{6\\sum{d_i^2}}{n(n^2-1)}$\n",
    "\n",
    "Donde:\n",
    "\n",
    "\"$d_i$\" representa las diferencias entre los rangos de los pares de observaciones.\n",
    "\"$n$\" es el tamaño de la muestra (número de observaciones).\n",
    "El coeficiente de correlación de Spearman varía entre -1 y 1, donde:\n",
    "\n",
    "Un valor de 1 indica una correlación perfectamente monotónica positiva (todos los pares de elementos tienen el mismo orden en ambas variables).\n",
    "Un valor de -1 indica una correlación perfectamente monotónica negativa (todos los pares de elementos tienen un orden opuesto en ambas variables).\n",
    "Un valor de 0 indica ausencia de correlación monotónica."
   ]
  },
  {
   "cell_type": "code",
   "execution_count": null,
   "id": "067ea7c1",
   "metadata": {},
   "outputs": [],
   "source": [
    "d1 = rgp_n1\n",
    "g = sns.PairGrid(d1)\n",
    "g.map_lower(plt.scatter, s=10)\n",
    "g.map_diag(sns.histplot, kde=False)\n",
    "g.map_upper(corrfuncS, cmap=plt.get_cmap('seismic'), norm=plt.Normalize(vmin=-1, vmax=1))\n",
    "g.fig.subplots_adjust(wspace=0.06, hspace=0.06) # equal spacing in both directions\n",
    "g.fig.suptitle('Mapa de calor de correlación por Spearman y diagramas de dispersión del pozo '+pozo,size=50, y=1.01)\n",
    "for ax in g.axes.flat:\n",
    "    ax.set_xlabel(ax.get_xlabel(), fontsize=30)\n",
    "    ax.set_ylabel(ax.get_ylabel(), fontsize=30)\n",
    "plt.savefig('Heatmap_scattergram_Spearman_'+pozo+'.png', format=\"png\", bbox_inches=\"tight\")\n",
    "plt.show()"
   ]
  },
  {
   "cell_type": "markdown",
   "id": "cfad9e0d",
   "metadata": {},
   "source": [
    "## Mapa de calor de correlación de Pearson\n",
    "El coeficiente de correlación de Pearson es una medida paramétrica utilizada para evaluar la correlación lineal entre dos variables continuas. Es una medida de la fuerza y la dirección de la relación lineal entre las variables.\n",
    "\n",
    "La ecuación del coeficiente de correlación de Pearson se representa:\n",
    "\n",
    "$\\rho_{pearson} = \\frac{{\\sum{(X_i - \\bar{X})(Y_i - \\bar{Y})}}}{{\\sqrt{{\\sum{(X_i - \\bar{X})^2}} \\sum{(Y_i - \\bar{Y})^2}}}}$\n",
    "\n",
    "Donde:\n",
    "\n",
    "\"$X_i$\" y \"$Y_i$\" son los valores de las dos variables.\n",
    "\"$\\bar{X}$\" y \"$\\bar{Y}$\" son las medias de las dos variables.\n",
    "El coeficiente de correlación de Pearson varía entre -1 y 1, donde:\n",
    "\n",
    "Un valor de 1 indica una correlación lineal positiva perfecta (los puntos tienden a estar en una línea ascendente).\n",
    "Un valor de -1 indica una correlación lineal negativa perfecta (los puntos tienden a estar en una línea descendente).\n",
    "Un valor de 0 indica ausencia de correlación lineal (no hay una relación lineal aparente entre las variables)."
   ]
  },
  {
   "cell_type": "code",
   "execution_count": null,
   "id": "50335468",
   "metadata": {
    "scrolled": true
   },
   "outputs": [],
   "source": [
    "d1 = rgp_n1\n",
    "g = sns.PairGrid(d1)\n",
    "g.map_lower(plt.scatter, s=10)\n",
    "g.map_diag(sns.histplot, kde=False)\n",
    "g.map_upper(corrfuncP, cmap=plt.get_cmap('seismic'), norm=plt.Normalize(vmin=-1, vmax=1))\n",
    "g.fig.subplots_adjust(wspace=0.06, hspace=0.06) # equal spacing in both directions\n",
    "g.fig.suptitle('Mapa de calor de correlación por Pearson y diagramas de dispersión del pozo '+pozo,size=50, y=1.01)\n",
    "for ax in g.axes.flat:\n",
    "    ax.set_xlabel(ax.get_xlabel(), fontsize=30)\n",
    "    ax.set_ylabel(ax.get_ylabel(), fontsize=30)\n",
    "plt.savefig('Heatmap_scattergram_Pearson_'+pozo+'.png', format=\"png\", bbox_inches=\"tight\")\n",
    "plt.show()"
   ]
  }
 ],
 "metadata": {
  "kernelspec": {
   "display_name": "Python 3 (ipykernel)",
   "language": "python",
   "name": "python3"
  },
  "language_info": {
   "codemirror_mode": {
    "name": "ipython",
    "version": 3
   },
   "file_extension": ".py",
   "mimetype": "text/x-python",
   "name": "python",
   "nbconvert_exporter": "python",
   "pygments_lexer": "ipython3",
   "version": "3.10.9"
  }
 },
 "nbformat": 4,
 "nbformat_minor": 5
}
